{
 "cells": [
  {
   "cell_type": "code",
   "execution_count": 1,
   "id": "656b7a34-e94b-4522-b72c-fc72696f99f3",
   "metadata": {},
   "outputs": [],
   "source": [
    "import pickle"
   ]
  },
  {
   "cell_type": "code",
   "execution_count": 2,
   "id": "5d8569f4-4e86-4b22-928c-8fe96df62664",
   "metadata": {},
   "outputs": [
    {
     "name": "stderr",
     "output_type": "stream",
     "text": [
      "C:\\Anaconda3\\Lib\\site-packages\\sklearn\\utils\\validation.py:2739: UserWarning: X does not have valid feature names, but LinearRegression was fitted with feature names\n",
      "  warnings.warn(\n"
     ]
    }
   ],
   "source": [
    "# Here we have to put the already loaded model.\n",
    "loaded_model=pickle.load(open(\"finalized_model.sav\",'rb'))\n",
    "#Here we have to check with the user input in real time.\n",
    "result=loaded_model.predict([[13, 25.0, 0, 1, 0]])"
   ]
  },
  {
   "cell_type": "code",
   "execution_count": 3,
   "id": "17c725e7-b34d-43c4-bf62-2eb12e2023fd",
   "metadata": {},
   "outputs": [
    {
     "data": {
      "text/plain": [
       "array([[-721.08331907]])"
      ]
     },
     "execution_count": 3,
     "metadata": {},
     "output_type": "execute_result"
    }
   ],
   "source": [
    "result"
   ]
  },
  {
   "cell_type": "code",
   "execution_count": null,
   "id": "37647792-dd2d-4d6a-97ff-3e265815cb11",
   "metadata": {},
   "outputs": [],
   "source": []
  }
 ],
 "metadata": {
  "kernelspec": {
   "display_name": "Python [conda env:base] *",
   "language": "python",
   "name": "conda-base-py"
  },
  "language_info": {
   "codemirror_mode": {
    "name": "ipython",
    "version": 3
   },
   "file_extension": ".py",
   "mimetype": "text/x-python",
   "name": "python",
   "nbconvert_exporter": "python",
   "pygments_lexer": "ipython3",
   "version": "3.13.5"
  }
 },
 "nbformat": 4,
 "nbformat_minor": 5
}
